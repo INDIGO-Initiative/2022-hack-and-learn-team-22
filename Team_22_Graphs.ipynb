{
  "nbformat": 4,
  "nbformat_minor": 0,
  "metadata": {
    "colab": {
      "name": "Hackteam 22 Graph.ipynb",
      "provenance": [],
      "collapsed_sections": []
    },
    "kernelspec": {
      "name": "python3",
      "display_name": "Python 3"
    },
    "language_info": {
      "name": "python"
    }
  },
  "cells": [
    {
      "cell_type": "markdown",
      "source": [
        "# Hack and Learn Team 22 - Graphs\n",
        "\n",
        "You'll need the SQLite database of data.\n",
        "\n",
        "You probably won't be able to upload it directly to the notebook - it will time out. Instead upload it to your Google Drive, then mount the drive.\n",
        "\n"
      ],
      "metadata": {
        "id": "LXnVrYJ3a0mi"
      }
    },
    {
      "cell_type": "markdown",
      "source": [
        "## First set up the database connection & graph library\n",
        "\n"
      ],
      "metadata": {
        "id": "Zb5SL-b6bS45"
      }
    },
    {
      "cell_type": "code",
      "source": [
        "!pip install plotly kaleido\n"
      ],
      "metadata": {
        "id": "KFSKDOG_gEaL"
      },
      "execution_count": null,
      "outputs": []
    },
    {
      "cell_type": "code",
      "source": [
        "from google.colab import drive\n",
        "drive.mount('/content/drive')"
      ],
      "metadata": {
        "id": "K7klvcSmbDaA"
      },
      "execution_count": null,
      "outputs": []
    },
    {
      "cell_type": "code",
      "source": [
        "import sqlite3\n",
        "import plotly.express\n",
        "\n",
        "sqlite_filename = 'drive/MyDrive/HackAndLearnTeam22/output.sqlite'\n",
        "\n",
        "connection = sqlite3.connect(sqlite_filename)\n",
        "connection.row_factory = sqlite3.Row\n",
        "cursor = connection.cursor()"
      ],
      "metadata": {
        "id": "Vl8tId_QbIsW"
      },
      "execution_count": null,
      "outputs": []
    },
    {
      "cell_type": "markdown",
      "source": [
        "## Average hhasset_total by treatment_simulated\n",
        "\n"
      ],
      "metadata": {
        "id": "rdAPIMwwdx0B"
      }
    },
    {
      "cell_type": "code",
      "source": [
        "sql = 'select treatment_simulated, avg(hhasset_total) AS hhasset_total from data group by treatment_simulated';\n",
        "cursor.execute(sql)\n",
        "data = cursor.fetchall()\n",
        "\n",
        "viz = plotly.express.bar(data)\n",
        "viz.show()\n",
        "viz.write_image(\"average-hhasset_total-by-treatment_simulated.png\")"
      ],
      "metadata": {
        "id": "0ABXjwsmeR1N"
      },
      "execution_count": null,
      "outputs": []
    },
    {
      "cell_type": "markdown",
      "source": [
        "## Distribution Curve hhasset_total by treatment_simulated (with outliers removed)\n"
      ],
      "metadata": {
        "id": "wN8sleNMkLlp"
      }
    },
    {
      "cell_type": "code",
      "source": [
        "# Get data\n",
        "sql = 'select hhasset_total, treatment_simulated FROM data ';\n",
        "cursor.execute(sql)\n",
        "data = cursor.fetchall()\n",
        "\n",
        "viz_data = [\n",
        "            {'x':int(d['hhasset_total'].split('.').pop(0)), 'treatment_simulated': d['treatment_simulated']} for d in data \n",
        "             if d['hhasset_total'] and int(d['hhasset_total'].split('.').pop(0))\n",
        "            ]\n",
        "\n",
        "# Viz\n",
        "viz = plotly.express.histogram(viz_data, x='x', barmode='group', height=600, color='treatment_simulated', nbins=50)\n",
        "viz.show()\n",
        "viz.write_image(\"distribution-curve-hhasset_total-by-treatment_simulated.png\")\n",
        "\n",
        "for limit in [1000000, 200000, 100000]:\n",
        "    viz = plotly.express.histogram([d for d in viz_data if d['x'] < limit], x='x', barmode='group', height=600, color='treatment_simulated', nbins=50)\n",
        "    viz.show()\n",
        "    viz.write_image(\"distribution-curve-hhasset_total-by-treatment_simulated-limit-to-under-\"+str(limit)+\".png\")"
      ],
      "metadata": {
        "id": "_xj3cHxlkS6j"
      },
      "execution_count": null,
      "outputs": []
    }
  ]
}
