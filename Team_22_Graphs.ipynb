{
  "nbformat": 4,
  "nbformat_minor": 0,
  "metadata": {
    "colab": {
      "name": "Hackteam 22 Graph.ipynb",
      "provenance": [],
      "collapsed_sections": []
    },
    "kernelspec": {
      "name": "python3",
      "display_name": "Python 3"
    },
    "language_info": {
      "name": "python"
    }
  },
  "cells": [
    {
      "cell_type": "markdown",
      "source": [
        "# Hack and Learn Team 22 - Graphs\n",
        "\n",
        "You'll need the SQLite database of data.\n",
        "\n",
        "You probably won't be able to upload it directly to the notebook - it will time out. Instead upload it to your Google Drive, then mount the drive.\n",
        "\n"
      ],
      "metadata": {
        "id": "LXnVrYJ3a0mi"
      }
    },
    {
      "cell_type": "markdown",
      "source": [
        "## First set up the database connection & graph library\n",
        "\n"
      ],
      "metadata": {
        "id": "Zb5SL-b6bS45"
      }
    },
    {
      "cell_type": "code",
      "source": [
        "!pip install plotly kaleido\n"
      ],
      "metadata": {
        "id": "KFSKDOG_gEaL"
      },
      "execution_count": null,
      "outputs": []
    },
    {
      "cell_type": "code",
      "source": [
        "import sqlite3\n",
        "import plotly.express\n",
        "\n",
        "sqlite_filename = 'drive/MyDrive/HackAndLearnTeam22/output.sqlite'\n",
        "\n",
        "connection = sqlite3.connect(sqlite_filename)\n",
        "connection.row_factory = sqlite3.Row\n",
        "cursor = connection.cursor()"
      ],
      "metadata": {
        "id": "Vl8tId_QbIsW"
      },
      "execution_count": null,
      "outputs": []
    },
    {
      "cell_type": "markdown",
      "source": [
        "## Average hhasset_total by treatment_simulated\n",
        "\n"
      ],
      "metadata": {
        "id": "rdAPIMwwdx0B"
      }
    },
    {
      "cell_type": "code",
      "source": [
        "sql = 'select treatment_simulated, avg(hhasset_total) AS hhasset_total from data group by treatment_simulated';\n",
        "cursor.execute(sql)\n",
        "data = cursor.fetchall()\n",
        "\n",
        "viz = plotly.express.bar(data)\n",
        "viz.show()\n",
        "viz.write_image(\"average-hhasset_total-by-treatment_simulated.png\")"
      ],
      "metadata": {
        "id": "0ABXjwsmeR1N"
      },
      "execution_count": null,
      "outputs": []
    },
    {
      "cell_type": "markdown",
      "source": [
        "## Distribution Curve hhasset_total by treatment_simulated\n"
      ],
      "metadata": {
        "id": "wN8sleNMkLlp"
      }
    },
    {
      "cell_type": "code",
      "source": [
        "# work out buckets\n",
        "sql = 'select max(cast(hhasset_total as int)) AS max, min(cast(hhasset_total as int)) AS min  from data ';\n",
        "cursor.execute(sql)\n",
        "data = cursor.fetchone()\n",
        "max = data['max']\n",
        "min = data['min']\n",
        "number_of_buckets = 1000\n",
        "\n",
        "buckets = []\n",
        "for i in range(0, number_of_buckets):\n",
        "    buckets.append({\n",
        "        'min': int(min + (max -min)/number_of_buckets*i),\n",
        "        'max': int(min + (max -min)/number_of_buckets*(i+1)),\n",
        "    })\n",
        "\n",
        "# Get data\n",
        "for bucket in buckets:\n",
        "    sql = 'select count(*) AS c from data where hhasset_total > ? AND hhasset_total <= ? AND treatment_simulated=0  ';\n",
        "    cursor.execute(sql, (bucket['min'], bucket['max']))\n",
        "    data = cursor.fetchone()\n",
        "    bucket['treatment_simulated_0'] = data['c']\n",
        "\n",
        "    sql = 'select count(*) AS c from data where hhasset_total > ? AND hhasset_total <= ? AND treatment_simulated=1  ';\n",
        "    cursor.execute(sql, (bucket['min'], bucket['max']))\n",
        "    data = cursor.fetchone()\n",
        "    bucket['treatment_simulated_1'] = data['c']\n",
        "\n",
        "#[print(i) for i in buckets]\n",
        "\n",
        "# Viz\n",
        "viz_data = [{'x':b['min'], 'y': b['treatment_simulated_0'], 'treatment_simulated':0} for b in buckets] + \\\n",
        "    [{'x':b['min'], 'y': b['treatment_simulated_1'], 'treatment_simulated':1} for b in buckets]\n",
        "viz = plotly.express.histogram(viz_data, x='x', y='y', barmode='group', color='treatment_simulated', height=600, nbins=50)\n",
        "\n",
        "viz.show()\n",
        "viz.write_image(\"distribution-curve-hhasset_total-by-treatment_simulated.png\")"
      ],
      "metadata": {
        "id": "_xj3cHxlkS6j"
      },
      "execution_count": null,
      "outputs": []
    }
  ]
}
